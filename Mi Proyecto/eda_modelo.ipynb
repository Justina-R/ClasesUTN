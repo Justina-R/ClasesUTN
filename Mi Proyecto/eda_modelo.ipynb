{
 "cells": [
  {
   "cell_type": "markdown",
   "id": "7def93e3",
   "metadata": {},
   "source": [
    "1. Importar librerías"
   ]
  },
  {
   "cell_type": "code",
   "execution_count": 3,
   "id": "3b1c60fe",
   "metadata": {},
   "outputs": [],
   "source": [
    "import pandas as pd\n",
    "import matplotlib.pyplot as plt\n",
    "import seaborn as sns"
   ]
  },
  {
   "cell_type": "markdown",
   "id": "d3333bc9",
   "metadata": {},
   "source": [
    "2. Cargar el dataset de entrenamiento de ML y de prueba"
   ]
  },
  {
   "cell_type": "code",
   "execution_count": 4,
   "id": "ac609b2e",
   "metadata": {},
   "outputs": [],
   "source": [
    "df_train = pd.read_csv(\"Dataset/agricultural_yield_train.csv\")\n",
    "df_test = pd.read_csv(\"Dataset/agricultural_yield_test.csv\")"
   ]
  },
  {
   "cell_type": "markdown",
   "id": "be428a12",
   "metadata": {},
   "source": [
    "3. Explorar los datos"
   ]
  },
  {
   "cell_type": "code",
   "execution_count": null,
   "id": "531e38a2",
   "metadata": {},
   "outputs": [],
   "source": [
    "df_train.head()\n",
    "df_train.info()\n",
    "df_train.describe()"
   ]
  },
  {
   "cell_type": "code",
   "execution_count": null,
   "id": "16e03feb",
   "metadata": {},
   "outputs": [],
   "source": [
    "df_test.head()\n",
    "df_test.info()\n",
    "df_test.describe()"
   ]
  },
  {
   "cell_type": "markdown",
   "id": "99d3128a",
   "metadata": {},
   "source": [
    "4. Visualizar correlaciones entre variables:"
   ]
  },
  {
   "cell_type": "code",
   "execution_count": null,
   "id": "ec9e82dd",
   "metadata": {},
   "outputs": [],
   "source": [
    "plt.figure(figsize=(10,6))\n",
    "sns.heatmap(df_train.corr(), annot=True, cmap='coolwarm')\n",
    "plt.title(\"Matriz de correlación\")\n",
    "plt.show()"
   ]
  },
  {
   "cell_type": "markdown",
   "id": "98774ff9",
   "metadata": {},
   "source": [
    "Análisis de la matriz de correlación\n",
    "\n",
    "La matriz de correlación muestra que Seed_Variety (0.68) y Irrigation_Schedule (0.56) tienen una fuerte relación positiva con el rendimiento (Yield_kg_per_hectare), mientras que Fertilizer_Amount_kg_per_hectare (0.28) también presenta cierta influencia.\n",
    "Por eso, estas tres variables se seleccionan como predictoras para construir un modelo que estime el rendimiento del cultivo con base en los factores más relevantes del dataset."
   ]
  },
  {
   "cell_type": "markdown",
   "id": "e499c377",
   "metadata": {},
   "source": [
    "Selección de variables"
   ]
  },
  {
   "cell_type": "code",
   "execution_count": 6,
   "id": "41dfa59b",
   "metadata": {},
   "outputs": [],
   "source": [
    "X_train = df_train[['Seed_Variety', 'Irrigation_Schedule', 'Fertilizer_Amount_kg_per_hectare']]\n",
    "y_train = df_train['Yield_kg_per_hectare']"
   ]
  },
  {
   "cell_type": "markdown",
   "id": "838114c0",
   "metadata": {},
   "source": [
    "Entrenamiento de modelo de regresión lineal"
   ]
  },
  {
   "cell_type": "code",
   "execution_count": null,
   "id": "a173c112",
   "metadata": {},
   "outputs": [],
   "source": [
    "from sklearn.linear_model import LinearRegression\n",
    "\n",
    "modelo = LinearRegression()\n",
    "modelo.fit(X_train, y_train)"
   ]
  },
  {
   "cell_type": "markdown",
   "id": "74a2cc5c",
   "metadata": {},
   "source": [
    "Preparar las variables de prueba"
   ]
  },
  {
   "cell_type": "code",
   "execution_count": null,
   "id": "1aa4855e",
   "metadata": {},
   "outputs": [],
   "source": [
    "X_test = df_test[['Seed_Variety', 'Irrigation_Schedule', 'Fertilizer_Amount_kg_per_hectare']]\n",
    "y_test = df_test['Yield_kg_per_hectare']"
   ]
  },
  {
   "cell_type": "markdown",
   "id": "372f0771",
   "metadata": {},
   "source": [
    "Predicciones con el conjunto de prueba"
   ]
  },
  {
   "cell_type": "code",
   "execution_count": 9,
   "id": "1dec5eb1",
   "metadata": {},
   "outputs": [],
   "source": [
    "y_pred = modelo.predict(X_test)"
   ]
  },
  {
   "cell_type": "markdown",
   "id": "a615fa56",
   "metadata": {},
   "source": [
    "Evaluar el modelo\n",
    "\n",
    "Ver qué tan cerca estuvieron las predicciones de los valores reales"
   ]
  },
  {
   "cell_type": "code",
   "execution_count": null,
   "id": "6630b060",
   "metadata": {},
   "outputs": [
    {
     "name": "stdout",
     "output_type": "stream",
     "text": [
      "Score del modelo con test.csv: 0.8564467848900175\n"
     ]
    }
   ],
   "source": [
    "print(\"Score del modelo con test.csv:\", modelo.score(X_test, y_test))"
   ]
  },
  {
   "cell_type": "markdown",
   "id": "f4116577",
   "metadata": {},
   "source": [
    "El modelo de regresión lineal alcanzó un coeficiente de determinación de 0.85, lo que indica que un 85% de la variación del rendimiento agrícola puede explicarse por las variables utilizadas. Es un buen coeficiente para utilizar."
   ]
  },
  {
   "cell_type": "markdown",
   "id": "1dfed236",
   "metadata": {},
   "source": [
    "Mostrar visualmente el rendimiento del modelo"
   ]
  },
  {
   "cell_type": "code",
   "execution_count": null,
   "id": "671b4124",
   "metadata": {},
   "outputs": [],
   "source": [
    "import matplotlib.pyplot as plt\n",
    "\n",
    "plt.figure(figsize=(8,6))\n",
    "plt.scatter(y_test, y_pred, alpha=0.6, color='teal')  # puntos reales vs predichos\n",
    "plt.plot([y_test.min(), y_test.max()], [y_test.min(), y_test.max()], 'r--')  # línea ideal\n",
    "plt.xlabel('Valores reales')\n",
    "plt.ylabel('Predicciones del modelo')\n",
    "plt.title('Valores reales vs. Predicciones')\n",
    "plt.grid(True)\n",
    "plt.show()"
   ]
  },
  {
   "cell_type": "markdown",
   "id": "a6986fe1",
   "metadata": {},
   "source": [
    "Ahora que creamos nuestro modelo y comprobamos que tiene un buen coeficiente de determinación, podemos mostrarlo en pantalla."
   ]
  },
  {
   "cell_type": "code",
   "execution_count": null,
   "id": "db46895a",
   "metadata": {},
   "outputs": [],
   "source": [
    "import joblib\n",
    "\n",
    "# Guardar el modelo en un archivo\n",
    "joblib.dump(modelo, 'modelo_entrenado.joblib')"
   ]
  }
 ],
 "metadata": {
  "kernelspec": {
   "display_name": "env",
   "language": "python",
   "name": "python3"
  },
  "language_info": {
   "codemirror_mode": {
    "name": "ipython",
    "version": 3
   },
   "file_extension": ".py",
   "mimetype": "text/x-python",
   "name": "python",
   "nbconvert_exporter": "python",
   "pygments_lexer": "ipython3",
   "version": "3.11.0"
  }
 },
 "nbformat": 4,
 "nbformat_minor": 5
}
